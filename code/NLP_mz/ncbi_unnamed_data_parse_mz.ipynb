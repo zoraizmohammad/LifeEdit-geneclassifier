{
  "cells": [
    {
      "cell_type": "markdown",
      "metadata": {
        "colab_type": "text",
        "id": "view-in-github"
      },
      "source": [
        "<a href=\"https://colab.research.google.com/github/IslamTayeb/life-edit-gene-classifier/blob/main/Code/ncbiUnnamedDataParser.ipynb\" target=\"_parent\"><img src=\"https://colab.research.google.com/assets/colab-badge.svg\" alt=\"Open In Colab\"/></a>"
      ]
    },
    {
      "cell_type": "markdown",
      "metadata": {},
      "source": [
        "## NCBI Unfound Data Parsing Tool"
      ]
    },
    {
      "cell_type": "markdown",
      "metadata": {},
      "source": [
        "#### You Must Install the following tools:\n",
        "\n",
        "```\n",
        "%pip install biopython\n",
        "%pip install ace_tools\n",
        "```"
      ]
    },
    {
      "cell_type": "code",
      "execution_count": null,
      "metadata": {},
      "outputs": [],
      "source": [
        "# Set your email and API key for NCBI Entrez\n",
        "Entrez.email = \"EMAIL@duke.edu\"  # Replace with your email\n",
        "Entrez.api_key = \"API_KEY\"  # Replace with your NCBI API key"
      ]
    },
    {
      "cell_type": "code",
      "execution_count": null,
      "metadata": {
        "id": "YWH1okMdjbt2"
      },
      "outputs": [],
      "source": [
        "from Bio import Entrez\n",
        "import pandas as pd\n",
        "\n",
        "# Load the CSV containing the LOC identifiers\n",
        "file_path = '../../../data/elbowClusterData/clusterData/cluster_4_output.csv'\n",
        "data = pd.read_csv(file_path)\n",
        "\n",
        "# Extract unique LOC identifiers\n",
        "loc_ids = data['Description'].str.extract(r'(LOC\\d+)')[0].dropna().unique()\n",
        "\n",
        "# Function to fetch gene information from NCBI\n",
        "def fetch_gene_info(loc_id):\n",
        "    try:\n",
        "        handle = Entrez.esearch(db=\"gene\", term=loc_id, retmax=1)\n",
        "        record = Entrez.read(handle)\n",
        "        handle.close()\n",
        "\n",
        "        # If a gene is found, fetch detailed information\n",
        "        if record[\"IdList\"]:\n",
        "            gene_id = record[\"IdList\"][0]\n",
        "            handle = Entrez.efetch(db=\"gene\", id=gene_id, retmode=\"xml\")\n",
        "            record = Entrez.read(handle)\n",
        "            handle.close()\n",
        "\n",
        "            gene_info = record[0]\n",
        "            return {\n",
        "                \"LOC Identifier\": loc_id,\n",
        "                \"Gene ID\": gene_id,\n",
        "                \"Description\": gene_info.get(\"Entrezgene_summary\", \"N/A\"),\n",
        "                \"Chromosome\": gene_info.get(\"Entrezgene_locus\", [{}])[0].get(\"Map_location\", \"N/A\"),\n",
        "                \"Other Names\": \", \".join([x[\"Gene-ref_syn_E\"] for x in gene_info.get(\"Entrezgene_gene\", {}).get(\"Gene-ref\", {}).get(\"Gene-ref_syn\", [])]),\n",
        "            }\n",
        "        else:\n",
        "            return {\"LOC Identifier\": loc_id, \"Gene ID\": \"Not Found\", \"Description\": \"N/A\", \"Chromosome\": \"N/A\", \"Other Names\": \"N/A\"}\n",
        "\n",
        "    except Exception as e:\n",
        "        return {\"LOC Identifier\": loc_id, \"Error\": str(e)}\n",
        "\n",
        "# Fetch information for all LOC identifiers\n",
        "results = [fetch_gene_info(loc) for loc in loc_ids]\n",
        "\n",
        "# Convert results to a DataFrame\n",
        "results_df = pd.DataFrame(results)\n",
        "\n",
        "# Save the results to a CSV\n",
        "output_path = \"../../../data/elbowClusterData/clusterData/ncbiParse/loc_gene_info.csv\"\n",
        "results_df.to_csv(output_path, index=False)\n",
        "\n",
        "# Display the results\n",
        "import ace_tools as tools\n",
        "tools.display_dataframe_to_user(name=\"LOC Gene Information\", dataframe=results_df)"
      ]
    }
  ],
  "metadata": {
    "colab": {
      "authorship_tag": "ABX9TyOxldmgBdMxy+Eny64c8cfv",
      "include_colab_link": true,
      "provenance": []
    },
    "kernelspec": {
      "display_name": "Python 3",
      "name": "python3"
    },
    "language_info": {
      "name": "python"
    }
  },
  "nbformat": 4,
  "nbformat_minor": 0
}
