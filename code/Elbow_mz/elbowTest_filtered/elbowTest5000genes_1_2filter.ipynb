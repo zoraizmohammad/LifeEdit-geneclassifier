{
  "cells": [
    {
      "cell_type": "markdown",
      "metadata": {
        "colab_type": "text",
        "id": "view-in-github"
      },
      "source": [
        "<a href=\"https://colab.research.google.com/github/IslamTayeb/life-edit-gene-classifier/blob/main/elbowTest5000genes_1_2filter.ipynb\" target=\"_parent\"><img src=\"https://colab.research.google.com/assets/colab-badge.svg\" alt=\"Open In Colab\"/></a>"
      ]
    },
    {
      "cell_type": "code",
      "execution_count": 1,
      "metadata": {
        "id": "Jxx-OmJX7h8e"
      },
      "outputs": [],
      "source": [
        "import pandas as pd\n",
        "import numpy as np\n",
        "import seaborn as sns\n",
        "import matplotlib.pyplot as plt\n",
        "from sklearn.preprocessing import StandardScaler"
      ]
    },
    {
      "cell_type": "markdown",
      "metadata": {},
      "source": [
        "### Elbow Test with Filtering - 1.2 Relevant Genes"
      ]
    },
    {
      "cell_type": "code",
      "execution_count": 3,
      "metadata": {
        "colab": {
          "base_uri": "https://localhost:8080/"
        },
        "id": "tf6N1W4n98sz",
        "outputId": "b1b8fafd-8cf5-4b27-e691-9110171ebc8b"
      },
      "outputs": [
        {
          "name": "stderr",
          "output_type": "stream",
          "text": [
            "C:\\Users\\mzora\\AppData\\Local\\Temp\\ipykernel_33488\\3806739303.py:1: DtypeWarning: Columns (8,9) have mixed types. Specify dtype option on import or set low_memory=False.\n",
            "  raw_annotation = pd.read_csv(\"../../../data/Human.GRCh38.p13.annot.tsv\", sep = '\\t')\n"
          ]
        },
        {
          "data": {
            "text/html": [
              "<div>\n",
              "<style scoped>\n",
              "    .dataframe tbody tr th:only-of-type {\n",
              "        vertical-align: middle;\n",
              "    }\n",
              "\n",
              "    .dataframe tbody tr th {\n",
              "        vertical-align: top;\n",
              "    }\n",
              "\n",
              "    .dataframe thead th {\n",
              "        text-align: right;\n",
              "    }\n",
              "</style>\n",
              "<table border=\"1\" class=\"dataframe\">\n",
              "  <thead>\n",
              "    <tr style=\"text-align: right;\">\n",
              "      <th></th>\n",
              "      <th>GeneID</th>\n",
              "      <th>Symbol</th>\n",
              "      <th>Description</th>\n",
              "      <th>Synonyms</th>\n",
              "      <th>GeneType</th>\n",
              "      <th>EnsemblGeneID</th>\n",
              "      <th>Status</th>\n",
              "      <th>ChrAcc</th>\n",
              "      <th>ChrStart</th>\n",
              "      <th>ChrStop</th>\n",
              "      <th>Orientation</th>\n",
              "      <th>Length</th>\n",
              "      <th>GOFunctionID</th>\n",
              "      <th>GOProcessID</th>\n",
              "      <th>GOComponentID</th>\n",
              "      <th>GOFunction</th>\n",
              "      <th>GOProcess</th>\n",
              "      <th>GOComponent</th>\n",
              "    </tr>\n",
              "  </thead>\n",
              "  <tbody>\n",
              "    <tr>\n",
              "      <th>0</th>\n",
              "      <td>100287102</td>\n",
              "      <td>DDX11L1</td>\n",
              "      <td>DEAD/H-box helicase 11 like 1 (pseudogene)</td>\n",
              "      <td>NaN</td>\n",
              "      <td>pseudo</td>\n",
              "      <td>ENSG00000290825</td>\n",
              "      <td>active</td>\n",
              "      <td>NC_000001.11</td>\n",
              "      <td>11874</td>\n",
              "      <td>14409</td>\n",
              "      <td>positive</td>\n",
              "      <td>1652</td>\n",
              "      <td>NaN</td>\n",
              "      <td>NaN</td>\n",
              "      <td>NaN</td>\n",
              "      <td>NaN</td>\n",
              "      <td>NaN</td>\n",
              "      <td>NaN</td>\n",
              "    </tr>\n",
              "    <tr>\n",
              "      <th>1</th>\n",
              "      <td>653635</td>\n",
              "      <td>WASH7P</td>\n",
              "      <td>WASP family homolog 7, pseudogene</td>\n",
              "      <td>FAM39F|WASH5P</td>\n",
              "      <td>pseudo</td>\n",
              "      <td>NaN</td>\n",
              "      <td>active</td>\n",
              "      <td>NC_000001.11</td>\n",
              "      <td>14362</td>\n",
              "      <td>29370</td>\n",
              "      <td>negative</td>\n",
              "      <td>1769</td>\n",
              "      <td>NaN</td>\n",
              "      <td>NaN</td>\n",
              "      <td>NaN</td>\n",
              "      <td>NaN</td>\n",
              "      <td>NaN</td>\n",
              "      <td>NaN</td>\n",
              "    </tr>\n",
              "    <tr>\n",
              "      <th>2</th>\n",
              "      <td>102466751</td>\n",
              "      <td>MIR6859-1</td>\n",
              "      <td>microRNA 6859-1</td>\n",
              "      <td>hsa-mir-6859-1</td>\n",
              "      <td>ncRNA</td>\n",
              "      <td>ENSG00000278267</td>\n",
              "      <td>active</td>\n",
              "      <td>NC_000001.11</td>\n",
              "      <td>17369</td>\n",
              "      <td>17436</td>\n",
              "      <td>negative</td>\n",
              "      <td>68</td>\n",
              "      <td>NaN</td>\n",
              "      <td>NaN</td>\n",
              "      <td>NaN</td>\n",
              "      <td>NaN</td>\n",
              "      <td>NaN</td>\n",
              "      <td>NaN</td>\n",
              "    </tr>\n",
              "    <tr>\n",
              "      <th>3</th>\n",
              "      <td>107985730</td>\n",
              "      <td>MIR1302-2HG</td>\n",
              "      <td>MIR1302-2 host gene</td>\n",
              "      <td>NaN</td>\n",
              "      <td>ncRNA</td>\n",
              "      <td>NaN</td>\n",
              "      <td>active</td>\n",
              "      <td>NC_000001.11</td>\n",
              "      <td>29926</td>\n",
              "      <td>31295</td>\n",
              "      <td>positive</td>\n",
              "      <td>538</td>\n",
              "      <td>NaN</td>\n",
              "      <td>NaN</td>\n",
              "      <td>NaN</td>\n",
              "      <td>NaN</td>\n",
              "      <td>NaN</td>\n",
              "      <td>NaN</td>\n",
              "    </tr>\n",
              "    <tr>\n",
              "      <th>4</th>\n",
              "      <td>100302278</td>\n",
              "      <td>MIR1302-2</td>\n",
              "      <td>microRNA 1302-2</td>\n",
              "      <td>MIRN1302-2|hsa-mir-1302-2</td>\n",
              "      <td>ncRNA</td>\n",
              "      <td>ENSG00000284332</td>\n",
              "      <td>active</td>\n",
              "      <td>NC_000001.11</td>\n",
              "      <td>30366</td>\n",
              "      <td>30503</td>\n",
              "      <td>positive</td>\n",
              "      <td>138</td>\n",
              "      <td>NaN</td>\n",
              "      <td>GO:0035195</td>\n",
              "      <td>NaN</td>\n",
              "      <td>NaN</td>\n",
              "      <td>miRNA-mediated gene silencing</td>\n",
              "      <td>NaN</td>\n",
              "    </tr>\n",
              "  </tbody>\n",
              "</table>\n",
              "</div>"
            ],
            "text/plain": [
              "      GeneID       Symbol                                 Description  \\\n",
              "0  100287102      DDX11L1  DEAD/H-box helicase 11 like 1 (pseudogene)   \n",
              "1     653635       WASH7P           WASP family homolog 7, pseudogene   \n",
              "2  102466751    MIR6859-1                             microRNA 6859-1   \n",
              "3  107985730  MIR1302-2HG                         MIR1302-2 host gene   \n",
              "4  100302278    MIR1302-2                             microRNA 1302-2   \n",
              "\n",
              "                    Synonyms GeneType    EnsemblGeneID  Status        ChrAcc  \\\n",
              "0                        NaN   pseudo  ENSG00000290825  active  NC_000001.11   \n",
              "1              FAM39F|WASH5P   pseudo              NaN  active  NC_000001.11   \n",
              "2             hsa-mir-6859-1    ncRNA  ENSG00000278267  active  NC_000001.11   \n",
              "3                        NaN    ncRNA              NaN  active  NC_000001.11   \n",
              "4  MIRN1302-2|hsa-mir-1302-2    ncRNA  ENSG00000284332  active  NC_000001.11   \n",
              "\n",
              "  ChrStart ChrStop Orientation  Length GOFunctionID GOProcessID GOComponentID  \\\n",
              "0    11874   14409    positive    1652          NaN         NaN           NaN   \n",
              "1    14362   29370    negative    1769          NaN         NaN           NaN   \n",
              "2    17369   17436    negative      68          NaN         NaN           NaN   \n",
              "3    29926   31295    positive     538          NaN         NaN           NaN   \n",
              "4    30366   30503    positive     138          NaN  GO:0035195           NaN   \n",
              "\n",
              "  GOFunction                      GOProcess GOComponent  \n",
              "0        NaN                            NaN         NaN  \n",
              "1        NaN                            NaN         NaN  \n",
              "2        NaN                            NaN         NaN  \n",
              "3        NaN                            NaN         NaN  \n",
              "4        NaN  miRNA-mediated gene silencing         NaN  "
            ]
          },
          "execution_count": 3,
          "metadata": {},
          "output_type": "execute_result"
        }
      ],
      "source": [
        "raw_annotation = pd.read_csv(\"../../../data/Human.GRCh38.p13.annot.tsv\", sep = '\\t')\n",
        "raw_annotation.head()"
      ]
    },
    {
      "cell_type": "markdown",
      "metadata": {
        "id": "uW7NPQmK_gAT"
      },
      "source": [
        "3.0"
      ]
    },
    {
      "cell_type": "code",
      "execution_count": 7,
      "metadata": {
        "colab": {
          "base_uri": "https://localhost:8080/"
        },
        "id": "oPaal_rN-UoI",
        "outputId": "18d26a76-956d-40b5-f4ac-47a5e1f88e1f"
      },
      "outputs": [
        {
          "name": "stdout",
          "output_type": "stream",
          "text": [
            "          GeneID        Symbol                             Description  \\\n",
            "18     113219467      MIR12136                          microRNA 12136   \n",
            "39         57801          HES4  hes family bHLH transcription factor 4   \n",
            "40          9636         ISG15           ISG15 ubiquitin like modifier   \n",
            "42     100288175  LOC100288175            uncharacterized LOC100288175   \n",
            "44     105378948  LOC105378948            uncharacterized LOC105378948   \n",
            "...          ...           ...                                     ...   \n",
            "39329  105379563  LOC105379563                                     NaN   \n",
            "39346       4572          TRNQ                                tRNA-Gln   \n",
            "39354       4512          COX1          cytochrome c oxidase subunit I   \n",
            "39355       4574         TRNS1                                tRNA-Ser   \n",
            "39356       4555          TRND                                tRNA-Asp   \n",
            "\n",
            "                               Synonyms        GeneType    EnsemblGeneID  \\\n",
            "18                                  NaN           ncRNA              NaN   \n",
            "39                              bHLHb42  protein-coding  ENSG00000188290   \n",
            "40     G1P2|IFI15|IMD38|IP17|UCRP|hUCRP  protein-coding  ENSG00000187608   \n",
            "42                                  NaN           ncRNA  ENSG00000291156   \n",
            "44                                  NaN           ncRNA              NaN   \n",
            "...                                 ...             ...              ...   \n",
            "39329                               NaN             NaN              NaN   \n",
            "39346                              MTTQ            tRNA              NaN   \n",
            "39354                         COI|MTCO1  protein-coding              NaN   \n",
            "39355                             MTTS1            tRNA              NaN   \n",
            "39356                              MTTD            tRNA              NaN   \n",
            "\n",
            "             Status        ChrAcc ChrStart  ChrStop Orientation  Length  \\\n",
            "18           active  NC_000001.11   632615   632685    negative      71   \n",
            "39           active  NC_000001.11   998962  1001052    negative    1920   \n",
            "40           active  NC_000001.11  1013497  1014540    positive     637   \n",
            "42           active  NC_000001.11  1059734  1066453    positive     974   \n",
            "44           active  NC_000001.11  1065635  1068554    negative    2920   \n",
            "...             ...           ...      ...      ...         ...     ...   \n",
            "39329  discontinued   NT_187508.1    30209    44487    positive     745   \n",
            "39346        active   NC_012920.1     4329     4400    negative      72   \n",
            "39354        active   NC_012920.1     5904     7445    positive    1542   \n",
            "39355        active   NC_012920.1     7446     7514    negative      69   \n",
            "39356        active   NC_012920.1     7518     7585    positive      68   \n",
            "\n",
            "                                            GOFunctionID  \\\n",
            "18                                            GO:0030533   \n",
            "39     GO:0000978///GO:0000981///GO:0005515///GO:0046983   \n",
            "40     GO:0003735///GO:0005178///GO:0005515///GO:0031...   \n",
            "42                                                   NaN   \n",
            "44                                                   NaN   \n",
            "...                                                  ...   \n",
            "39329                                                NaN   \n",
            "39346                                                NaN   \n",
            "39354  GO:0004129///GO:0005515///GO:0020037///GO:0046872   \n",
            "39355                                                NaN   \n",
            "39356                                                NaN   \n",
            "\n",
            "                                             GOProcessID  \\\n",
            "18                                            GO:0006412   \n",
            "39     GO:0006357///GO:0007399///GO:0009952///GO:0030154   \n",
            "40     GO:0007229///GO:0009615///GO:0016567///GO:0019...   \n",
            "42                                                   NaN   \n",
            "44                                                   NaN   \n",
            "...                                                  ...   \n",
            "39329                                                NaN   \n",
            "39346                                                NaN   \n",
            "39354  GO:0006123///GO:0006979///GO:0007568///GO:0009...   \n",
            "39355                                                NaN   \n",
            "39356                                                NaN   \n",
            "\n",
            "                                           GOComponentID  \\\n",
            "18                                                   NaN   \n",
            "39                               GO:0000785///GO:0005634   \n",
            "40     GO:0005576///GO:0005634///GO:0005654///GO:0005...   \n",
            "42                                                   NaN   \n",
            "44                                                   NaN   \n",
            "...                                                  ...   \n",
            "39329                                                NaN   \n",
            "39346                                                NaN   \n",
            "39354  GO:0005743///GO:0005750///GO:0005751///GO:0045277   \n",
            "39355                                                NaN   \n",
            "39356                                                NaN   \n",
            "\n",
            "                                              GOFunction  \\\n",
            "18             triplet codon-amino acid adaptor activity   \n",
            "39     RNA polymerase II cis-regulatory region sequen...   \n",
            "40     structural constituent of ribosome///integrin ...   \n",
            "42                                                   NaN   \n",
            "44                                                   NaN   \n",
            "...                                                  ...   \n",
            "39329                                                NaN   \n",
            "39346                                                NaN   \n",
            "39354  cytochrome-c oxidase activity///protein bindin...   \n",
            "39355                                                NaN   \n",
            "39356                                                NaN   \n",
            "\n",
            "                                               GOProcess  \\\n",
            "18                                           translation   \n",
            "39     regulation of transcription by RNA polymerase ...   \n",
            "40     integrin-mediated signaling pathway///response...   \n",
            "42                                                   NaN   \n",
            "44                                                   NaN   \n",
            "...                                                  ...   \n",
            "39329                                                NaN   \n",
            "39346                                                NaN   \n",
            "39354  mitochondrial electron transport, cytochrome c...   \n",
            "39355                                                NaN   \n",
            "39356                                                NaN   \n",
            "\n",
            "                                             GOComponent  \n",
            "18                                                   NaN  \n",
            "39                                   chromatin///nucleus  \n",
            "40     extracellular region///nucleus///nucleoplasm//...  \n",
            "42                                                   NaN  \n",
            "44                                                   NaN  \n",
            "...                                                  ...  \n",
            "39329                                                NaN  \n",
            "39346                                                NaN  \n",
            "39354  mitochondrial inner membrane///mitochondrial r...  \n",
            "39355                                                NaN  \n",
            "39356                                                NaN  \n",
            "\n",
            "[4730 rows x 18 columns]\n"
          ]
        }
      ],
      "source": [
        "import pandas as pd\n",
        "\n",
        "# Step 2: Read the relevantGenes3.txt file\n",
        "# Assuming relevantGenes3.txt contains genes separated by commas\n",
        "with open('../../EDA/relevant_genes_1.2_275.txt', 'r') as file:\n",
        "    relevant_genes = file.read().strip().split(',')\n",
        "\n",
        "# Step 3: Clean up the data\n",
        "# Ensure 'GeneID' column is treated as a string (important if GeneID might not always be numeric)\n",
        "raw_annotation['GeneID'] = raw_annotation['GeneID'].astype(str).str.strip()\n",
        "relevant_genes = [gene.strip() for gene in relevant_genes]\n",
        "\n",
        "# Step 4: Filter the raw_annotation table\n",
        "filtered_data = raw_annotation[raw_annotation['GeneID'].isin(relevant_genes)]\n",
        "\n",
        "# Step 5: Save or display the filtered data\n",
        "filtered_data.to_csv('../../../data/localData/filtered_genes12.csv', index=False)\n",
        "\n",
        "print(filtered_data)\n"
      ]
    },
    {
      "cell_type": "markdown",
      "metadata": {},
      "source": [
        "#### Must import Natural Language Toolkit\n",
        "```\n",
        "import ntlk \n",
        "nltk.download('punkt_tab')\n",
        "```\n"
      ]
    },
    {
      "cell_type": "markdown",
      "metadata": {
        "id": "lMB9G8zUBeQl"
      },
      "source": [
        "Data Cleaning"
      ]
    },
    {
      "cell_type": "code",
      "execution_count": 9,
      "metadata": {
        "colab": {
          "base_uri": "https://localhost:8080/"
        },
        "id": "GYBffVEUAx1s",
        "outputId": "0ec6849d-dcf2-4d4a-d820-1b469a6cf738"
      },
      "outputs": [
        {
          "name": "stderr",
          "output_type": "stream",
          "text": [
            "[nltk_data] Downloading package punkt to\n",
            "[nltk_data]     C:\\Users\\mzora\\AppData\\Roaming\\nltk_data...\n",
            "[nltk_data]   Package punkt is already up-to-date!\n",
            "[nltk_data] Downloading package stopwords to\n",
            "[nltk_data]     C:\\Users\\mzora\\AppData\\Roaming\\nltk_data...\n",
            "[nltk_data]   Package stopwords is already up-to-date!\n",
            "[nltk_data] Downloading package wordnet to\n",
            "[nltk_data]     C:\\Users\\mzora\\AppData\\Roaming\\nltk_data...\n",
            "[nltk_data]   Package wordnet is already up-to-date!\n"
          ]
        },
        {
          "name": "stdout",
          "output_type": "stream",
          "text": [
            "                                     Description  \\\n",
            "18                                microRNA 12136   \n",
            "39        hes family bHLH transcription factor 4   \n",
            "40                 ISG15 ubiquitin like modifier   \n",
            "42                  uncharacterized LOC100288175   \n",
            "44                  uncharacterized LOC105378948   \n",
            "62                                 microRNA 6726   \n",
            "63              small nucleolar RNA, C/D box 167   \n",
            "80   long intergenic non-protein coding RNA 1770   \n",
            "91                   matrix metallopeptidase 23B   \n",
            "132                 uncharacterized LOC112268220   \n",
            "\n",
            "                             cleaned_description  \n",
            "18                                microrna 12136  \n",
            "39         he family bhlh transcription factor 4  \n",
            "40                 isg15 ubiquitin like modifier  \n",
            "42                  uncharacterized loc100288175  \n",
            "44                  uncharacterized loc105378948  \n",
            "62                                 microrna 6726  \n",
            "63                 small nucleolar rna c box 167  \n",
            "80   long intergenic non protein coding rna 1770  \n",
            "91                   matrix metallopeptidase 23b  \n",
            "132                 uncharacterized loc112268220  \n"
          ]
        },
        {
          "name": "stderr",
          "output_type": "stream",
          "text": [
            "C:\\Users\\mzora\\AppData\\Local\\Temp\\ipykernel_33488\\2848352200.py:36: SettingWithCopyWarning: \n",
            "A value is trying to be set on a copy of a slice from a DataFrame.\n",
            "Try using .loc[row_indexer,col_indexer] = value instead\n",
            "\n",
            "See the caveats in the documentation: https://pandas.pydata.org/pandas-docs/stable/user_guide/indexing.html#returning-a-view-versus-a-copy\n",
            "  df['cleaned_description'] = df['Description'].apply(clean_text)\n"
          ]
        }
      ],
      "source": [
        "import pandas as pd\n",
        "import re\n",
        "from nltk.corpus import stopwords\n",
        "from nltk.tokenize import word_tokenize\n",
        "from nltk.stem import WordNetLemmatizer\n",
        "import nltk\n",
        "\n",
        "# Download required NLTK resources\n",
        "nltk.download('punkt')\n",
        "nltk.download('stopwords')\n",
        "nltk.download('wordnet')\n",
        "\n",
        "# Load your dataset\n",
        "df = filtered_data\n",
        "\n",
        "# Initialize stopwords and lemmatizer\n",
        "stop_words = set(stopwords.words('english'))\n",
        "lemmatizer = WordNetLemmatizer()\n",
        "\n",
        "# Clean and tokenize descriptions\n",
        "def clean_text(text):\n",
        "    if not isinstance(text, str):\n",
        "        text = str(text)  # Convert non-string values to strings\n",
        "\n",
        "    # Keep only alphanumeric characters and underscores\n",
        "    text = re.sub(r'[^a-zA-Z0-9_ ]', ' ', text)\n",
        "    # Convert to lowercase\n",
        "    text = text.lower()\n",
        "    # Tokenize\n",
        "    tokens = word_tokenize(text)\n",
        "    # Remove stopwords and lemmatize\n",
        "    tokens = [lemmatizer.lemmatize(word) for word in tokens if word not in stop_words]\n",
        "    return ' '.join(tokens)\n",
        "\n",
        "# Apply the cleaning function\n",
        "df['cleaned_description'] = df['Description'].apply(clean_text)\n",
        "print(df[['Description', 'cleaned_description']].head(10))"
      ]
    },
    {
      "cell_type": "code",
      "execution_count": 10,
      "metadata": {
        "id": "gdsWZz_IBl9H"
      },
      "outputs": [],
      "source": [
        "from sklearn.feature_extraction.text import TfidfVectorizer\n",
        "\n",
        "# Initialize TF-IDF Vectorizer\n",
        "tfidf_vectorizer = TfidfVectorizer(max_features=500)  # Adjust max_features as needed\n",
        "tfidf_matrix = tfidf_vectorizer.fit_transform(df['cleaned_description'])\n",
        "\n",
        "# Convert to DataFrame for easier handling\n",
        "tfidf_df = pd.DataFrame(tfidf_matrix.toarray(), columns=tfidf_vectorizer.get_feature_names_out())\n"
      ]
    },
    {
      "cell_type": "code",
      "execution_count": 11,
      "metadata": {
        "colab": {
          "base_uri": "https://localhost:8080/",
          "height": 434
        },
        "id": "oc4kr5MLBovV",
        "outputId": "f94375cb-21b3-4c79-8e6f-78027622db55"
      },
      "outputs": [
        {
          "data": {
            "image/png": "[encoded data removed]",
            "text/plain": [
              "<Figure size 1000x600 with 1 Axes>"
            ]
          },
          "metadata": {},
          "output_type": "display_data"
        },
        {
          "name": "stdout",
          "output_type": "stream",
          "text": [
            "Optimal number of clusters explaining at least 80.0% variance: 1\n"
          ]
        }
      ],
      "source": [
        "from sklearn.cluster import KMeans\n",
        "import matplotlib.pyplot as plt\n",
        "import numpy as np\n",
        "\n",
        "# Set a range for possible cluster numbers\n",
        "range_n_clusters = range(1, 50)  # Test from 1 to 20 clusters\n",
        "\n",
        "# Calculate the inertia (within-cluster sum of squares) for each k\n",
        "inertia = []\n",
        "for n_clusters in range_n_clusters:\n",
        "    kmeans = KMeans(n_clusters=n_clusters, random_state=42)\n",
        "    kmeans.fit(tfidf_df)\n",
        "    inertia.append(kmeans.inertia_)\n",
        "\n",
        "# Plot the elbow curve\n",
        "plt.figure(figsize=(10, 6))\n",
        "plt.plot(range_n_clusters, inertia, marker='o')\n",
        "plt.title('Elbow Method for Optimal Clusters')\n",
        "plt.xlabel('Number of Clusters')\n",
        "plt.ylabel('Inertia (Within-cluster Sum of Squares)')\n",
        "plt.grid(True)\n",
        "plt.show()\n",
        "\n",
        "# Select the number of clusters explaining at least x% of the variance\n",
        "variance_explained = 1 - np.array(inertia) / max(inertia)\n",
        "x_percent_threshold = 0.80  # Adjust this value to your desired threshold (e.g., 90%)\n",
        "optimal_clusters = np.argmax(variance_explained >= x_percent_threshold) + 1  # +1 because range_n_clusters starts at 1\n",
        "\n",
        "print(f\"Optimal number of clusters explaining at least {x_percent_threshold * 100}% variance: {optimal_clusters}\")\n"
      ]
    },
    {
      "cell_type": "markdown",
      "metadata": {},
      "source": [
        "## MUST ALTER BASED ON TARGET VARIABLE"
      ]
    },
    {
      "cell_type": "code",
      "execution_count": null,
      "metadata": {
        "colab": {
          "base_uri": "https://localhost:8080/",
          "height": 741
        },
        "id": "T96j00qIC8B1",
        "outputId": "4073953f-9e02-4075-a8c4-a95fc98f3f37"
      },
      "outputs": [],
      "source": [
        "from sklearn.model_selection import train_test_split\n",
        "from sklearn.ensemble import RandomForestClassifier\n",
        "from sklearn.metrics import classification_report, accuracy_score\n",
        "\n",
        "# Perform K-Means with the optimal number of clusters\n",
        "kmeans = KMeans(n_clusters=optimal_clusters, random_state=42)\n",
        "df['cluster'] = kmeans.fit_predict(tfidf_df)\n",
        "\n",
        "# Prepare features and target\n",
        "X = pd.concat([tfidf_df, df['cluster']], axis=1)  # Include clusters as features\n",
        "y = df['']  #ALTER BASED ON YOUR TARGET VARIABLE\n",
        "\n",
        "# Train-test split\n",
        "X_train, X_test, y_train, y_test = train_test_split(X, y, test_size=0.2, random_state=42)\n",
        "\n",
        "# Train a classifier\n",
        "clf = RandomForestClassifier(random_state=42)\n",
        "clf.fit(X_train, y_train)\n",
        "\n",
        "# Evaluate the classifier\n",
        "y_pred = clf.predict(X_test)\n",
        "print(\"Classification Report:\")\n",
        "print(classification_report(y_test, y_pred))\n",
        "print(f\"Accuracy: {accuracy_score(y_test, y_pred):.2f}\")\n"
      ]
    },
    {
      "cell_type": "code",
      "execution_count": 13,
      "metadata": {
        "colab": {
          "base_uri": "https://localhost:8080/",
          "height": 759
        },
        "id": "WZ0A9g-EDsp9",
        "outputId": "8192da73-4f04-46c8-d4a7-a972b27418dc"
      },
      "outputs": [
        {
          "name": "stderr",
          "output_type": "stream",
          "text": [
            "<ipython-input-13-9e82ed8b66bf>:9: SettingWithCopyWarning: \n",
            "A value is trying to be set on a copy of a slice from a DataFrame.\n",
            "Try using .loc[row_indexer,col_indexer] = value instead\n",
            "\n",
            "See the caveats in the documentation: https://pandas.pydata.org/pandas-docs/stable/user_guide/indexing.html#returning-a-view-versus-a-copy\n",
            "  df['pca_one'] = pca_result[:, 0]\n",
            "<ipython-input-13-9e82ed8b66bf>:10: SettingWithCopyWarning: \n",
            "A value is trying to be set on a copy of a slice from a DataFrame.\n",
            "Try using .loc[row_indexer,col_indexer] = value instead\n",
            "\n",
            "See the caveats in the documentation: https://pandas.pydata.org/pandas-docs/stable/user_guide/indexing.html#returning-a-view-versus-a-copy\n",
            "  df['pca_two'] = pca_result[:, 1]\n"
          ]
        },
        {
          "data": {
            "image/png": "[encoded data removed]",
            "text/plain": [
              "<Figure size 1000x800 with 1 Axes>"
            ]
          },
          "metadata": {},
          "output_type": "display_data"
        }
      ],
      "source": [
        "from sklearn.decomposition import PCA\n",
        "import seaborn as sns\n",
        "\n",
        "# Reduce TF-IDF features to 2D using PCA\n",
        "pca = PCA(n_components=2, random_state=42)\n",
        "pca_result = pca.fit_transform(tfidf_df)\n",
        "\n",
        "# Add PCA results and clusters to the DataFrame for visualization\n",
        "df['pca_one'] = pca_result[:, 0]\n",
        "df['pca_two'] = pca_result[:, 1]\n",
        "\n",
        "plt.figure(figsize=(10, 8))\n",
        "sns.scatterplot(\n",
        "    x='pca_one', y='pca_two',\n",
        "    hue='cluster',\n",
        "    palette=sns.color_palette('hsv', optimal_clusters),\n",
        "    data=df,\n",
        "    legend=\"full\",\n",
        "    alpha=0.6\n",
        ")\n",
        "plt.title('Cluster Visualization (PCA)')\n",
        "plt.show()"
      ]
    }
  ],
  "metadata": {
    "colab": {
      "authorship_tag": "ABX9TyMZxWf1SvFdI4rplQaUiLN8",
      "include_colab_link": true,
      "provenance": []
    },
    "kernelspec": {
      "display_name": "Python 3",
      "name": "python3"
    },
    "language_info": {
      "codemirror_mode": {
        "name": "ipython",
        "version": 3
      },
      "file_extension": ".py",
      "mimetype": "text/x-python",
      "name": "python",
      "nbconvert_exporter": "python",
      "pygments_lexer": "ipython3",
      "version": "3.11.9"
    }
  },
  "nbformat": 4,
  "nbformat_minor": 0
}
